{
  "cells": [
    {
      "cell_type": "markdown",
      "metadata": {
        "id": "uqhCa4I8Q19h"
      },
      "source": [
        "### **LSTM and CNN (EXTRA CREDIT PROJECT)**"
      ]
    },
    {
      "cell_type": "markdown",
      "metadata": {
        "id": "_zGWcFjpRBwL"
      },
      "source": [
        "This project aims to create a neural network model using LSTM and CNN to predict male and female names. Use nltk names data (if you are not sure how to download this data, you can use nltk.download('popular') to download the entire collection and load names data). As a part of nltk names data, you will have two files, male.txt (contains male names) and female.txt (contains female names). Randomly shuffle both the names and split the data into train, test data. Preprocess the data if necessary. Visualize the distribution of the names (males, females). You can use matplotlib python library or any other visualization library of your choice. You can use vectorize the data using the word embedding model of your choice (you can reuse the code from any of the colab notebooks we saw in class regarding vectorization. If reusing, specify from which notebook that code was taken).\n",
        "\n",
        "Task 1: Create a convolutional neural network model with two 1D convolutional layers. Use sigmoid activation and apply a dropout of your desired units after creating the convolution layers. In the end, create a softmax layer. Predict whether the names in test data are male or female. Evaluate your predictions (you can use the scikit learn classification report).\n",
        "\n",
        "Task 2: Create a simple sequential model with an LSTM layer of your desired units. Use sigmoid activation. Predict whether the names in test data are male or female. Evaluate your predictions (you can use the scikit learn classification report).\n",
        "\n",
        "Task 3: Mixing LSTM and CNN for prediction. Combine LSTM and CNN layers (e.g., LSTM layer followed by CNN layer, etc.) to make predictions. Try different activation functions and dropout rates and report your results.\n",
        "\n",
        "Submission: For tasks 1, 2, and 3, submit ipynb and html files. Report: Your report should have the Section 1: Aim of this assignment, introduction. Section 2: An explanation of LSTM and CNN (based on the materials you read). Section 3: Explanation of all three tasks. Screenshots of the code and results. Section 4: Compare all these three tasks and compare your results. Section 5: Conclusion.\n",
        "\n",
        "Submission: Submit a PDF FILE of your report\n",
        "\n",
        "**NOTE: calculate F1 score, Confusion matrix, precision and recall and make sure your accuracy is minimum of 70%. ****"
      ]
    },
    {
      "cell_type": "code",
      "execution_count": null,
      "metadata": {
        "colab": {
          "base_uri": "https://localhost:8080/"
        },
        "id": "W0najxJ3_e8c",
        "outputId": "224df14d-e1c9-4968-dbad-3e0bf96914bc"
      },
      "outputs": [
        {
          "name": "stderr",
          "output_type": "stream",
          "text": [
            "[nltk_data] Downloading collection 'popular'\n",
            "[nltk_data]    | \n",
            "[nltk_data]    | Downloading package cmudict to /root/nltk_data...\n",
            "[nltk_data]    |   Unzipping corpora/cmudict.zip.\n",
            "[nltk_data]    | Downloading package gazetteers to /root/nltk_data...\n",
            "[nltk_data]    |   Unzipping corpora/gazetteers.zip.\n",
            "[nltk_data]    | Downloading package genesis to /root/nltk_data...\n",
            "[nltk_data]    |   Unzipping corpora/genesis.zip.\n",
            "[nltk_data]    | Downloading package gutenberg to /root/nltk_data...\n",
            "[nltk_data]    |   Unzipping corpora/gutenberg.zip.\n",
            "[nltk_data]    | Downloading package inaugural to /root/nltk_data...\n",
            "[nltk_data]    |   Unzipping corpora/inaugural.zip.\n",
            "[nltk_data]    | Downloading package movie_reviews to\n",
            "[nltk_data]    |     /root/nltk_data...\n",
            "[nltk_data]    |   Unzipping corpora/movie_reviews.zip.\n",
            "[nltk_data]    | Downloading package names to /root/nltk_data...\n",
            "[nltk_data]    |   Unzipping corpora/names.zip.\n",
            "[nltk_data]    | Downloading package shakespeare to /root/nltk_data...\n",
            "[nltk_data]    |   Unzipping corpora/shakespeare.zip.\n",
            "[nltk_data]    | Downloading package stopwords to /root/nltk_data...\n",
            "[nltk_data]    |   Unzipping corpora/stopwords.zip.\n",
            "[nltk_data]    | Downloading package treebank to /root/nltk_data...\n",
            "[nltk_data]    |   Unzipping corpora/treebank.zip.\n",
            "[nltk_data]    | Downloading package twitter_samples to\n",
            "[nltk_data]    |     /root/nltk_data...\n",
            "[nltk_data]    |   Unzipping corpora/twitter_samples.zip.\n",
            "[nltk_data]    | Downloading package omw to /root/nltk_data...\n",
            "[nltk_data]    | Downloading package omw-1.4 to /root/nltk_data...\n",
            "[nltk_data]    | Downloading package wordnet to /root/nltk_data...\n",
            "[nltk_data]    | Downloading package wordnet2021 to /root/nltk_data...\n",
            "[nltk_data]    | Downloading package wordnet31 to /root/nltk_data...\n",
            "[nltk_data]    | Downloading package wordnet_ic to /root/nltk_data...\n",
            "[nltk_data]    |   Unzipping corpora/wordnet_ic.zip.\n",
            "[nltk_data]    | Downloading package words to /root/nltk_data...\n",
            "[nltk_data]    |   Unzipping corpora/words.zip.\n",
            "[nltk_data]    | Downloading package maxent_ne_chunker to\n",
            "[nltk_data]    |     /root/nltk_data...\n",
            "[nltk_data]    |   Unzipping chunkers/maxent_ne_chunker.zip.\n",
            "[nltk_data]    | Downloading package punkt to /root/nltk_data...\n",
            "[nltk_data]    |   Unzipping tokenizers/punkt.zip.\n",
            "[nltk_data]    | Downloading package snowball_data to\n",
            "[nltk_data]    |     /root/nltk_data...\n",
            "[nltk_data]    | Downloading package averaged_perceptron_tagger to\n",
            "[nltk_data]    |     /root/nltk_data...\n",
            "[nltk_data]    |   Unzipping taggers/averaged_perceptron_tagger.zip.\n",
            "[nltk_data]    | \n",
            "[nltk_data]  Done downloading collection popular\n"
          ]
        }
      ],
      "source": [
        "import tensorflow as tf\n",
        "import numpy as np\n",
        "\n",
        "import keras\n",
        "from keras.utils.np_utils import to_categorical\n",
        "import nltk,random\n",
        "nltk.download(\"popular\")\n",
        "\n",
        "from nltk.corpus import names\n",
        "from _collections import defaultdict\n",
        "from nltk.probability import FreqDist"
      ]
    },
    {
      "cell_type": "code",
      "execution_count": null,
      "metadata": {
        "colab": {
          "base_uri": "https://localhost:8080/"
        },
        "id": "0l90MTPWAzbY",
        "outputId": "7d04c9a2-1097-47ec-cade-f2a6ca3db29d"
      },
      "outputs": [
        {
          "name": "stdout",
          "output_type": "stream",
          "text": [
            "[('Dorette', 1.0), ('Michaelina', 1.0), ('Derrol', 0.0), ('Rozella', 1.0), ('Van', 0.0), ('Amaleta', 1.0), ('Ephram', 0.0), ('Allis', 1.0), ('Arden', 1.0), ('Jana', 1.0)]\n",
            "7944\n"
          ]
        }
      ],
      "source": [
        "male_female_names = ([(name, 0.0) for name in names.words('male.txt')] + \\\n",
        "[(name, 1.0 ) for name in names.words('female.txt')])\n",
        "\n",
        "random.seed(21)\n",
        "\n",
        "random.shuffle(male_female_names)\n",
        "print(male_female_names[0:10])\n",
        "print(len(male_female_names))"
      ]
    },
    {
      "cell_type": "code",
      "execution_count": null,
      "metadata": {
        "colab": {
          "base_uri": "https://localhost:8080/"
        },
        "id": "3CJw0Rj4A3Ct",
        "outputId": "e6840ec2-2df1-4cc5-8763-a387495c3e43"
      },
      "outputs": [
        {
          "name": "stdout",
          "output_type": "stream",
          "text": [
            "(['a', 's', 'h', 'l', 'i'], 1.0)\n"
          ]
        }
      ],
      "source": [
        "## First we need to convert strings to letters\n",
        "updated_names = [(list(X.lower()),y) for (X,y) in male_female_names]\n",
        "print(updated_names[21])"
      ]
    },
    {
      "cell_type": "code",
      "execution_count": null,
      "metadata": {
        "colab": {
          "base_uri": "https://localhost:8080/"
        },
        "id": "_qAXDkzxA6mK",
        "outputId": "9b5c7776-d108-4cf9-c4fd-bbf5ffcecd63"
      },
      "outputs": [
        {
          "data": {
            "text/plain": [
              "7944"
            ]
          },
          "execution_count": 4,
          "metadata": {},
          "output_type": "execute_result"
        }
      ],
      "source": [
        "len(updated_names)"
      ]
    },
    {
      "cell_type": "code",
      "execution_count": null,
      "metadata": {
        "colab": {
          "base_uri": "https://localhost:8080/"
        },
        "id": "hpNgs49_A8HS",
        "outputId": "c3479c33-7a5c-4be0-be1c-080392fbdb1b"
      },
      "outputs": [
        {
          "name": "stdout",
          "output_type": "stream",
          "text": [
            "[['a', 'r', 'l', 'e', 'e'], ['f', 'l', 'o'], ['a', 'd', 'a', 'i', 'r'], ['e', 'm', 'i', 'l', 'i', 'o'], ['w', 'o', 'o', 'd', 'y']]\n",
            "[1.0, 1.0, 0.0, 0.0, 0.0]\n"
          ]
        },
        {
          "data": {
            "text/plain": [
              "(7944, 7944)"
            ]
          },
          "execution_count": 5,
          "metadata": {},
          "output_type": "execute_result"
        }
      ],
      "source": [
        "names = []\n",
        "labels = []\n",
        "\n",
        "names = [val_name for val_name,x  in updated_names]\n",
        "labels = [label for x , label in updated_names]\n",
        "\n",
        "print(names[10:15])\n",
        "print(labels[10:15])\n",
        "len(names), len(labels)"
      ]
    },
    {
      "cell_type": "code",
      "execution_count": null,
      "metadata": {
        "colab": {
          "base_uri": "https://localhost:8080/"
        },
        "id": "ev3Wb96PA_q9",
        "outputId": "0e8ac089-29b4-4814-9564-e521057d724e"
      },
      "outputs": [
        {
          "name": "stdout",
          "output_type": "stream",
          "text": [
            "                                Name  Gender\n",
            "0              [d, o, r, e, t, t, e]     1.0\n",
            "1     [m, i, c, h, a, e, l, i, n, a]     1.0\n",
            "2                 [d, e, r, r, o, l]     0.0\n",
            "3              [r, o, z, e, l, l, a]     1.0\n",
            "4                          [v, a, n]     0.0\n",
            "...                              ...     ...\n",
            "7939              [i, s, a, b, e, l]     1.0\n",
            "7940              [z, u, l, e, m, a]     1.0\n",
            "7941                    [k, a, y, e]     1.0\n",
            "7942                 [b, e, c, k, y]     1.0\n",
            "7943           [j, o, a, c, h, i, m]     0.0\n",
            "\n",
            "[7944 rows x 2 columns]\n"
          ]
        }
      ],
      "source": [
        "import pandas as pd\n",
        "df = pd.DataFrame (updated_names, columns = ['Name','Gender'])\n",
        "print (df)"
      ]
    },
    {
      "cell_type": "code",
      "execution_count": null,
      "metadata": {
        "colab": {
          "base_uri": "https://localhost:8080/",
          "height": 404
        },
        "id": "ZoFXIVBOBCfc",
        "outputId": "6f33dcfa-c1ff-4c09-a9b2-13df7c3e9238"
      },
      "outputs": [
        {
          "data": {
            "image/png": "[encoded data removed]",
            "text/plain": [
              "<Figure size 504x432 with 1 Axes>"
            ]
          },
          "metadata": {
            "needs_background": "light"
          },
          "output_type": "display_data"
        }
      ],
      "source": [
        "import numpy as np\n",
        "import matplotlib.pyplot as plt\n",
        "gender = df['Gender'].value_counts()\n",
        "plt.figure(figsize=(7, 6))\n",
        "axis = gender.plot(kind='bar', rot=0, color=\"m\")\n",
        "axis.set_title(\"Bar Graph of Gender\", y = 1)\n",
        "axis.set_xlabel('Gender')\n",
        "axis.set_ylabel('Number of Names')\n",
        "axis.set_xticklabels(('Male', 'Female'))\n",
        "\n",
        "for rect in axis.patches:\n",
        "    y = rect.get_height()\n",
        "    x = rect.get_x() + rect.get_width() / 2\n",
        "    space = 1\n",
        "    label = format(y)\n",
        "    axis.annotate(label, (x, y), xytext=(0, space), textcoords=\"offset points\", ha='center', va='bottom')\n",
        "plt.show()"
      ]
    },
    {
      "cell_type": "code",
      "execution_count": null,
      "metadata": {
        "colab": {
          "base_uri": "https://localhost:8080/",
          "height": 70
        },
        "id": "W1Eh42jDBEgL",
        "outputId": "189a3eee-c62f-4f2d-ba4d-d19c22512996"
      },
      "outputs": [
        {
          "name": "stdout",
          "output_type": "stream",
          "text": [
            "{'h', \"'\", 'u', 'g', 't', 'e', '-', 'd', 'a', 'j', 'i', 'r', 'l', 'c', 'w', 'x', 'q', 'k', 'o', 'n', 'p', 'z', 'y', 's', 'f', ' ', 'm', 'v', 'b'}\n",
            "total character: 29\n"
          ]
        },
        {
          "data": {
            "application/vnd.google.colaboratory.intrinsic+json": {
              "type": "string"
            },
            "text/plain": [
              "'i'"
            ]
          },
          "execution_count": 8,
          "metadata": {},
          "output_type": "execute_result"
        }
      ],
      "source": [
        "character = ''\n",
        "for name in names:\n",
        "    for s in name:\n",
        "        character += s\n",
        "characteru = set(character)\n",
        "print(characteru)\n",
        "vocab_size = len(characteru)\n",
        "print('total character:', len(characteru))\n",
        "char_index = dict((c, i) for i, c in enumerate(characteru))\n",
        "index_character = dict((i, c) for i, c in enumerate(characteru))\n",
        "\n",
        "index_character[10]"
      ]
    },
    {
      "cell_type": "code",
      "execution_count": null,
      "metadata": {
        "colab": {
          "base_uri": "https://localhost:8080/"
        },
        "id": "mNpGqnKpBGs0",
        "outputId": "9bd31f74-56bc-4970-d1e5-d80da1484602"
      },
      "outputs": [
        {
          "name": "stdout",
          "output_type": "stream",
          "text": [
            "[7, 18, 11, 5, 4, 4, 5]\n",
            "[[0. 0. 0. 0. 0. 0. 0. 1. 0. 0. 0. 0. 0. 0. 0. 0. 0. 0. 0. 0. 0. 0. 0. 0.\n",
            "  0. 0. 0. 0. 0.]\n",
            " [0. 0. 0. 0. 0. 0. 0. 0. 0. 0. 0. 0. 0. 0. 0. 0. 0. 0. 1. 0. 0. 0. 0. 0.\n",
            "  0. 0. 0. 0. 0.]\n",
            " [0. 0. 0. 0. 0. 0. 0. 0. 0. 0. 0. 1. 0. 0. 0. 0. 0. 0. 0. 0. 0. 0. 0. 0.\n",
            "  0. 0. 0. 0. 0.]\n",
            " [0. 0. 0. 0. 0. 1. 0. 0. 0. 0. 0. 0. 0. 0. 0. 0. 0. 0. 0. 0. 0. 0. 0. 0.\n",
            "  0. 0. 0. 0. 0.]\n",
            " [0. 0. 0. 0. 1. 0. 0. 0. 0. 0. 0. 0. 0. 0. 0. 0. 0. 0. 0. 0. 0. 0. 0. 0.\n",
            "  0. 0. 0. 0. 0.]\n",
            " [0. 0. 0. 0. 1. 0. 0. 0. 0. 0. 0. 0. 0. 0. 0. 0. 0. 0. 0. 0. 0. 0. 0. 0.\n",
            "  0. 0. 0. 0. 0.]\n",
            " [0. 0. 0. 0. 0. 1. 0. 0. 0. 0. 0. 0. 0. 0. 0. 0. 0. 0. 0. 0. 0. 0. 0. 0.\n",
            "  0. 0. 0. 0. 0.]]\n",
            "[26, 10, 13, 0, 8, 5, 12, 10, 19, 8]\n",
            "[[0. 0. 0. 0. 0. 0. 0. 0. 0. 0. 0. 0. 0. 0. 0. 0. 0. 0. 0. 0. 0. 0. 0. 0.\n",
            "  0. 0. 1. 0. 0.]\n",
            " [0. 0. 0. 0. 0. 0. 0. 0. 0. 0. 1. 0. 0. 0. 0. 0. 0. 0. 0. 0. 0. 0. 0. 0.\n",
            "  0. 0. 0. 0. 0.]\n",
            " [0. 0. 0. 0. 0. 0. 0. 0. 0. 0. 0. 0. 0. 1. 0. 0. 0. 0. 0. 0. 0. 0. 0. 0.\n",
            "  0. 0. 0. 0. 0.]\n",
            " [1. 0. 0. 0. 0. 0. 0. 0. 0. 0. 0. 0. 0. 0. 0. 0. 0. 0. 0. 0. 0. 0. 0. 0.\n",
            "  0. 0. 0. 0. 0.]\n",
            " [0. 0. 0. 0. 0. 0. 0. 0. 1. 0. 0. 0. 0. 0. 0. 0. 0. 0. 0. 0. 0. 0. 0. 0.\n",
            "  0. 0. 0. 0. 0.]\n",
            " [0. 0. 0. 0. 0. 1. 0. 0. 0. 0. 0. 0. 0. 0. 0. 0. 0. 0. 0. 0. 0. 0. 0. 0.\n",
            "  0. 0. 0. 0. 0.]\n",
            " [0. 0. 0. 0. 0. 0. 0. 0. 0. 0. 0. 0. 1. 0. 0. 0. 0. 0. 0. 0. 0. 0. 0. 0.\n",
            "  0. 0. 0. 0. 0.]\n",
            " [0. 0. 0. 0. 0. 0. 0. 0. 0. 0. 1. 0. 0. 0. 0. 0. 0. 0. 0. 0. 0. 0. 0. 0.\n",
            "  0. 0. 0. 0. 0.]\n",
            " [0. 0. 0. 0. 0. 0. 0. 0. 0. 0. 0. 0. 0. 0. 0. 0. 0. 0. 0. 1. 0. 0. 0. 0.\n",
            "  0. 0. 0. 0. 0.]\n",
            " [0. 0. 0. 0. 0. 0. 0. 0. 1. 0. 0. 0. 0. 0. 0. 0. 0. 0. 0. 0. 0. 0. 0. 0.\n",
            "  0. 0. 0. 0. 0.]]\n"
          ]
        }
      ],
      "source": [
        "def vectorize_names(names, verbose=False):\n",
        "    vnames =[]\n",
        "    for name in names:\n",
        "        x = [char_index[c] for c in name]\n",
        "        if verbose:\n",
        "            print(x)\n",
        "        vx = np.eye(len(char_index))[x]\n",
        "        if verbose:\n",
        "            print(vx[0:12])\n",
        "        vnames.append(vx)\n",
        "    return vnames\n",
        "\n",
        "vectorize_names(names[0:2], verbose=True)\n",
        "\n",
        "vnames = vectorize_names(names,verbose=False)"
      ]
    },
    {
      "cell_type": "code",
      "execution_count": null,
      "metadata": {
        "colab": {
          "base_uri": "https://localhost:8080/"
        },
        "id": "_uX6LdiaBJHf",
        "outputId": "4fde780f-4e46-40ed-f019-d1c2e13846b8"
      },
      "outputs": [
        {
          "name": "stdout",
          "output_type": "stream",
          "text": [
            "20\n"
          ]
        },
        {
          "data": {
            "text/plain": [
              "array([[0, 0, 0, 0, 0, 0, 0, 0, 0, 0, 0, 0, 0, 0, 0, 0, 0, 0, 0, 0, 0, 0,\n",
              "        0, 0, 0, 0, 0, 0, 0],\n",
              "       [0, 0, 0, 0, 0, 0, 0, 0, 0, 0, 0, 0, 0, 0, 0, 0, 0, 0, 0, 0, 0, 0,\n",
              "        0, 0, 0, 0, 0, 0, 0],\n",
              "       [0, 0, 0, 0, 0, 0, 0, 0, 0, 0, 0, 0, 0, 0, 0, 0, 0, 0, 0, 0, 0, 0,\n",
              "        0, 0, 0, 0, 0, 0, 0],\n",
              "       [0, 0, 0, 0, 0, 0, 0, 0, 0, 0, 0, 0, 0, 0, 0, 0, 0, 0, 0, 0, 0, 0,\n",
              "        0, 0, 0, 0, 0, 0, 0],\n",
              "       [0, 0, 0, 0, 0, 0, 0, 0, 0, 0, 0, 0, 0, 0, 0, 0, 0, 0, 0, 0, 0, 0,\n",
              "        0, 0, 0, 0, 0, 0, 0],\n",
              "       [0, 0, 0, 0, 0, 0, 0, 0, 0, 0, 0, 0, 0, 0, 0, 0, 0, 0, 0, 0, 0, 0,\n",
              "        0, 0, 0, 0, 0, 0, 0],\n",
              "       [0, 0, 0, 0, 0, 0, 0, 0, 0, 0, 0, 0, 0, 0, 0, 0, 0, 0, 0, 0, 0, 0,\n",
              "        0, 0, 0, 0, 0, 0, 0],\n",
              "       [0, 0, 0, 0, 0, 0, 0, 0, 0, 0, 0, 0, 0, 0, 0, 0, 0, 0, 0, 0, 0, 0,\n",
              "        0, 0, 0, 0, 0, 0, 0],\n",
              "       [0, 0, 0, 0, 0, 0, 0, 0, 0, 0, 0, 0, 0, 0, 0, 0, 0, 0, 0, 0, 0, 0,\n",
              "        0, 0, 0, 0, 0, 0, 0],\n",
              "       [0, 0, 0, 0, 0, 0, 0, 0, 0, 0, 0, 0, 0, 0, 0, 0, 0, 0, 0, 0, 0, 0,\n",
              "        0, 0, 0, 0, 0, 0, 0],\n",
              "       [0, 0, 0, 0, 0, 0, 0, 0, 0, 0, 0, 0, 0, 0, 0, 0, 0, 0, 0, 0, 0, 0,\n",
              "        0, 0, 0, 0, 0, 0, 0],\n",
              "       [0, 0, 0, 0, 0, 0, 0, 0, 0, 0, 0, 0, 0, 0, 0, 0, 0, 0, 0, 0, 0, 0,\n",
              "        0, 0, 0, 0, 0, 0, 0],\n",
              "       [0, 0, 0, 0, 0, 0, 0, 0, 0, 0, 0, 0, 0, 0, 0, 0, 0, 0, 0, 0, 0, 0,\n",
              "        0, 0, 0, 0, 0, 0, 0],\n",
              "       [0, 0, 0, 0, 0, 0, 0, 0, 0, 0, 0, 0, 0, 0, 0, 0, 0, 0, 0, 0, 0, 0,\n",
              "        0, 0, 0, 0, 0, 0, 0],\n",
              "       [0, 0, 0, 0, 0, 0, 0, 1, 0, 0, 0, 0, 0, 0, 0, 0, 0, 0, 0, 0, 0, 0,\n",
              "        0, 0, 0, 0, 0, 0, 0],\n",
              "       [0, 0, 0, 0, 0, 1, 0, 0, 0, 0, 0, 0, 0, 0, 0, 0, 0, 0, 0, 0, 0, 0,\n",
              "        0, 0, 0, 0, 0, 0, 0],\n",
              "       [0, 0, 0, 0, 0, 0, 0, 0, 0, 0, 0, 1, 0, 0, 0, 0, 0, 0, 0, 0, 0, 0,\n",
              "        0, 0, 0, 0, 0, 0, 0],\n",
              "       [0, 0, 0, 0, 0, 0, 0, 0, 0, 0, 0, 1, 0, 0, 0, 0, 0, 0, 0, 0, 0, 0,\n",
              "        0, 0, 0, 0, 0, 0, 0],\n",
              "       [0, 0, 0, 0, 0, 0, 0, 0, 0, 0, 0, 0, 0, 0, 0, 0, 0, 0, 1, 0, 0, 0,\n",
              "        0, 0, 0, 0, 0, 0, 0],\n",
              "       [0, 0, 0, 0, 0, 0, 0, 0, 0, 0, 0, 0, 1, 0, 0, 0, 0, 0, 0, 0, 0, 0,\n",
              "        0, 0, 0, 0, 0, 0, 0]], dtype=int32)"
            ]
          },
          "execution_count": 10,
          "metadata": {},
          "output_type": "execute_result"
        }
      ],
      "source": [
        "from keras_preprocessing.sequence import pad_sequences\n",
        "\n",
        "maxlen =20\n",
        "\n",
        "vect_name =  pad_sequences(vnames, maxlen=maxlen)\n",
        "\n",
        "print(len(vect_name[1]))\n",
        "\n",
        "vect_name[2]"
      ]
    },
    {
      "cell_type": "code",
      "execution_count": null,
      "metadata": {
        "colab": {
          "base_uri": "https://localhost:8080/"
        },
        "id": "Cp6ej4b4BVIs",
        "outputId": "cc8333a2-b3b8-45bf-88c8-0807958aa44b"
      },
      "outputs": [
        {
          "data": {
            "text/plain": [
              "(6944, 20, 29)"
            ]
          },
          "execution_count": 11,
          "metadata": {},
          "output_type": "execute_result"
        }
      ],
      "source": [
        "# Our vectorized training data\n",
        "x_train = vect_name[1000:]\n",
        "# Our vectorized test data\n",
        "x_test = vect_name[:1000]\n",
        "\n",
        "x_train.shape"
      ]
    },
    {
      "cell_type": "code",
      "execution_count": null,
      "metadata": {
        "colab": {
          "base_uri": "https://localhost:8080/"
        },
        "id": "wz748bPGBW4O",
        "outputId": "c7bf4391-9317-4342-e99e-91e5a276be54"
      },
      "outputs": [
        {
          "data": {
            "text/plain": [
              "array([[0, 0, 0, 0, 0, 0, 0, 0, 0, 0, 0, 0, 0, 0, 0, 0, 0, 0, 0, 0, 0, 0,\n",
              "        0, 0, 0, 0, 0, 0, 0],\n",
              "       [0, 0, 0, 0, 0, 0, 0, 0, 0, 0, 0, 0, 0, 0, 0, 0, 0, 0, 0, 0, 0, 0,\n",
              "        0, 0, 0, 0, 0, 0, 0],\n",
              "       [0, 0, 0, 0, 0, 0, 0, 0, 0, 0, 0, 0, 0, 0, 0, 0, 0, 0, 0, 0, 0, 0,\n",
              "        0, 0, 0, 0, 0, 0, 0],\n",
              "       [0, 0, 0, 0, 0, 0, 0, 0, 0, 0, 0, 0, 0, 0, 0, 0, 0, 0, 0, 0, 0, 0,\n",
              "        0, 0, 0, 0, 0, 0, 0],\n",
              "       [0, 0, 0, 0, 0, 0, 0, 0, 0, 0, 0, 0, 0, 0, 0, 0, 0, 0, 0, 0, 0, 0,\n",
              "        0, 0, 0, 0, 0, 0, 0],\n",
              "       [0, 0, 0, 0, 0, 0, 0, 0, 0, 0, 0, 0, 0, 0, 0, 0, 0, 0, 0, 0, 0, 0,\n",
              "        0, 0, 0, 0, 0, 0, 0],\n",
              "       [0, 0, 0, 0, 0, 0, 0, 0, 0, 0, 0, 0, 0, 0, 0, 0, 0, 0, 0, 0, 0, 0,\n",
              "        0, 0, 0, 0, 0, 0, 0],\n",
              "       [0, 0, 0, 0, 0, 0, 0, 0, 0, 0, 0, 0, 0, 0, 0, 0, 0, 0, 0, 0, 0, 0,\n",
              "        0, 0, 0, 0, 0, 0, 0],\n",
              "       [0, 0, 0, 0, 0, 0, 0, 0, 0, 0, 0, 0, 0, 0, 0, 0, 0, 0, 0, 0, 0, 0,\n",
              "        0, 0, 0, 0, 0, 0, 0],\n",
              "       [0, 0, 0, 0, 0, 0, 0, 0, 0, 0, 0, 0, 0, 0, 0, 0, 0, 0, 0, 0, 0, 0,\n",
              "        0, 0, 0, 0, 0, 0, 0],\n",
              "       [0, 0, 0, 0, 0, 0, 0, 0, 0, 0, 0, 0, 0, 0, 0, 0, 0, 0, 0, 0, 0, 0,\n",
              "        0, 0, 0, 0, 0, 0, 0],\n",
              "       [0, 0, 0, 0, 0, 0, 0, 0, 0, 0, 0, 0, 0, 0, 0, 0, 0, 0, 0, 0, 0, 0,\n",
              "        0, 0, 0, 0, 0, 0, 0],\n",
              "       [0, 0, 0, 0, 0, 0, 0, 0, 0, 0, 0, 0, 0, 0, 0, 0, 0, 0, 0, 0, 0, 0,\n",
              "        0, 0, 0, 0, 0, 0, 0],\n",
              "       [0, 0, 0, 0, 0, 0, 0, 0, 0, 0, 0, 0, 0, 0, 0, 0, 0, 0, 0, 0, 0, 0,\n",
              "        0, 0, 0, 0, 0, 0, 0],\n",
              "       [0, 0, 0, 0, 0, 0, 0, 0, 0, 0, 0, 0, 0, 0, 0, 0, 0, 0, 0, 0, 0, 0,\n",
              "        1, 0, 0, 0, 0, 0, 0],\n",
              "       [0, 0, 0, 0, 0, 0, 0, 0, 0, 0, 0, 0, 0, 0, 0, 0, 0, 0, 1, 0, 0, 0,\n",
              "        0, 0, 0, 0, 0, 0, 0],\n",
              "       [0, 0, 0, 0, 0, 0, 0, 0, 0, 0, 0, 0, 0, 0, 0, 0, 0, 0, 0, 1, 0, 0,\n",
              "        0, 0, 0, 0, 0, 0, 0],\n",
              "       [0, 0, 0, 0, 0, 0, 0, 0, 0, 0, 1, 0, 0, 0, 0, 0, 0, 0, 0, 0, 0, 0,\n",
              "        0, 0, 0, 0, 0, 0, 0],\n",
              "       [0, 0, 0, 0, 0, 0, 0, 0, 0, 0, 0, 0, 0, 0, 0, 0, 0, 0, 0, 1, 0, 0,\n",
              "        0, 0, 0, 0, 0, 0, 0],\n",
              "       [0, 0, 0, 0, 0, 0, 0, 0, 1, 0, 0, 0, 0, 0, 0, 0, 0, 0, 0, 0, 0, 0,\n",
              "        0, 0, 0, 0, 0, 0, 0]], dtype=int32)"
            ]
          },
          "execution_count": 12,
          "metadata": {},
          "output_type": "execute_result"
        }
      ],
      "source": [
        "x_test[27]"
      ]
    },
    {
      "cell_type": "code",
      "execution_count": null,
      "metadata": {
        "colab": {
          "base_uri": "https://localhost:8080/"
        },
        "id": "4UStAcjTBYvF",
        "outputId": "dd71d4b4-0d76-430d-e918-4294ddd32a4b"
      },
      "outputs": [
        {
          "data": {
            "text/plain": [
              "20"
            ]
          },
          "execution_count": 13,
          "metadata": {},
          "output_type": "execute_result"
        }
      ],
      "source": [
        "len(x_test[27])"
      ]
    },
    {
      "cell_type": "code",
      "execution_count": null,
      "metadata": {
        "colab": {
          "base_uri": "https://localhost:8080/"
        },
        "id": "cl-PhYxYBa5j",
        "outputId": "144f4d90-4479-425b-f4c8-99edf75cd66f"
      },
      "outputs": [
        {
          "name": "stdout",
          "output_type": "stream",
          "text": [
            "y_.shape:  (7944, 2)\n",
            "[[0. 1.]\n",
            " [1. 0.]\n",
            " [0. 1.]\n",
            " [0. 1.]\n",
            " [0. 1.]\n",
            " [0. 1.]\n",
            " [0. 1.]\n",
            " [1. 0.]\n",
            " [1. 0.]\n",
            " [1. 0.]\n",
            " [1. 0.]\n",
            " [0. 1.]\n",
            " [0. 1.]\n",
            " [0. 1.]\n",
            " [1. 0.]\n",
            " [0. 1.]\n",
            " [0. 1.]\n",
            " [0. 1.]\n",
            " [1. 0.]\n",
            " [1. 0.]\n",
            " [1. 0.]]\n"
          ]
        }
      ],
      "source": [
        "y_ = to_categorical(labels)\n",
        "print('y_.shape: ',y_.shape )\n",
        "print(y_[5:26])"
      ]
    },
    {
      "cell_type": "code",
      "execution_count": null,
      "metadata": {
        "colab": {
          "base_uri": "https://localhost:8080/"
        },
        "id": "oYudZdT4BdBv",
        "outputId": "63b15586-7358-4acb-82d8-9f248b5e06e7"
      },
      "outputs": [
        {
          "data": {
            "text/plain": [
              "(6944, 2)"
            ]
          },
          "execution_count": 15,
          "metadata": {},
          "output_type": "execute_result"
        }
      ],
      "source": [
        "y_train = y_[1000:]\n",
        "y_test = y_[:1000]\n",
        "y_train.shape"
      ]
    },
    {
      "cell_type": "markdown",
      "metadata": {
        "id": "NKEyjoZZBgQf"
      },
      "source": [
        "# **TASK-1**\n",
        "\n"
      ]
    },
    {
      "cell_type": "code",
      "execution_count": null,
      "metadata": {
        "id": "k-nmtWbKBeFK"
      },
      "outputs": [],
      "source": [
        "from keras.models import Model\n",
        "from keras.layers import Input, Dense, Dropout, Flatten\n",
        "from keras.layers.convolutional import Convolution1D, MaxPooling1D\n",
        "from keras.layers import Conv1D"
      ]
    },
    {
      "cell_type": "code",
      "execution_count": null,
      "metadata": {
        "colab": {
          "base_uri": "https://localhost:8080/"
        },
        "id": "KdiPyzrUBkQq",
        "outputId": "c52cd99a-2c1d-4379-ce17-931936b345aa"
      },
      "outputs": [
        {
          "data": {
            "text/plain": [
              "(6944, 20, 29)"
            ]
          },
          "execution_count": 17,
          "metadata": {},
          "output_type": "execute_result"
        }
      ],
      "source": [
        "x_train.shape"
      ]
    },
    {
      "cell_type": "code",
      "execution_count": null,
      "metadata": {
        "colab": {
          "base_uri": "https://localhost:8080/"
        },
        "id": "9iLyB7R9BmD8",
        "outputId": "fd9a0bd6-35b9-407c-c40a-51ff36f538a6"
      },
      "outputs": [
        {
          "data": {
            "text/plain": [
              "TensorShape([None, 20, 29])"
            ]
          },
          "execution_count": 18,
          "metadata": {},
          "output_type": "execute_result"
        }
      ],
      "source": [
        "inputs = Input(shape=(20, 29), name='input', dtype='float32')\n",
        "\n",
        "inputs.shape"
      ]
    },
    {
      "cell_type": "code",
      "execution_count": null,
      "metadata": {
        "id": "ZlfhQN-pBo7o"
      },
      "outputs": [],
      "source": [
        "#parameter intilization\n",
        "filter_size = 4\n",
        "dense_ot = 10\n",
        "kernel_val = [2, 3, 3, 3, 4, 5]\n",
        "num_out = 2\n",
        "batch_size = 42\n",
        "epochs = 30"
      ]
    },
    {
      "cell_type": "code",
      "execution_count": null,
      "metadata": {
        "id": "23KwTloMBri3"
      },
      "outputs": [],
      "source": [
        "cnn = Conv1D(filters=filter_size, kernel_size=kernel_val[0],\n",
        "                     padding='same', activation='sigmoid',\n",
        "                     input_shape=(20, 29))(inputs)\n",
        "cnn1 = MaxPooling1D(pool_size=5)(cnn)\n",
        "\n",
        "cnn2 = Conv1D(filters=filter_size, kernel_size=kernel_val[2],\n",
        "                      padding='same', activation='sigmoid')(cnn1)\n",
        "conv3 = Flatten()(cnn2)\n",
        "\n",
        "out = Dropout(0.2)(Dense(dense_ot, activation='sigmoid')(conv3))\n",
        "\n",
        "predict = Dense(num_out, activation='softmax', name='output')(out)\n",
        "\n",
        "model_Conv1D = Model(inputs=inputs, outputs=predict)\n",
        "\n",
        "model_Conv1D.compile(loss='categorical_crossentropy', optimizer='adam',\n",
        "              metrics=['accuracy'])"
      ]
    },
    {
      "cell_type": "code",
      "execution_count": null,
      "metadata": {
        "id": "6qRBnyzKblKg"
      },
      "outputs": [],
      "source": [
        "from tensorflow.keras.callbacks import EarlyStopping, ModelCheckpoint, ReduceLROnPlateau\n",
        "callback = EarlyStopping(monitor='val_loss', patience=5)\n",
        "reduce_lr = ReduceLROnPlateau(monitor='val_accuracy', factor=0.1, patience=2, verbose=1, min_delta=1e-4, mode='min')"
      ]
    },
    {
      "cell_type": "code",
      "execution_count": null,
      "metadata": {
        "colab": {
          "base_uri": "https://localhost:8080/"
        },
        "id": "Z_aQENSuBt6J",
        "outputId": "7b9f1d97-43e9-463c-86c5-58c9c36f5a85"
      },
      "outputs": [
        {
          "name": "stdout",
          "output_type": "stream",
          "text": [
            "Epoch 1/30\n",
            "133/133 [==============================] - 1s 5ms/step - loss: 0.6771 - accuracy: 0.5908 - val_loss: 0.6571 - val_accuracy: 0.6343 - lr: 0.0010\n",
            "Epoch 2/30\n",
            "133/133 [==============================] - 1s 5ms/step - loss: 0.6697 - accuracy: 0.6126 - val_loss: 0.6567 - val_accuracy: 0.6343 - lr: 0.0010\n",
            "Epoch 3/30\n",
            "126/133 [===========================>..] - ETA: 0s - loss: 0.6681 - accuracy: 0.6170\n",
            "Epoch 3: ReduceLROnPlateau reducing learning rate to 0.00010000000474974513.\n",
            "133/133 [==============================] - 1s 4ms/step - loss: 0.6689 - accuracy: 0.6164 - val_loss: 0.6566 - val_accuracy: 0.6343 - lr: 0.0010\n",
            "Epoch 4/30\n",
            "133/133 [==============================] - 1s 4ms/step - loss: 0.6644 - accuracy: 0.6252 - val_loss: 0.6566 - val_accuracy: 0.6343 - lr: 1.0000e-04\n",
            "Epoch 5/30\n",
            "123/133 [==========================>...] - ETA: 0s - loss: 0.6659 - accuracy: 0.6221\n",
            "Epoch 5: ReduceLROnPlateau reducing learning rate to 1.0000000474974514e-05.\n",
            "133/133 [==============================] - 1s 4ms/step - loss: 0.6652 - accuracy: 0.6241 - val_loss: 0.6566 - val_accuracy: 0.6343 - lr: 1.0000e-04\n",
            "Epoch 6/30\n",
            "133/133 [==============================] - 1s 4ms/step - loss: 0.6665 - accuracy: 0.6227 - val_loss: 0.6566 - val_accuracy: 0.6343 - lr: 1.0000e-05\n",
            "Epoch 7/30\n",
            "133/133 [==============================] - ETA: 0s - loss: 0.6646 - accuracy: 0.6266\n",
            "Epoch 7: ReduceLROnPlateau reducing learning rate to 1.0000000656873453e-06.\n",
            "133/133 [==============================] - 1s 4ms/step - loss: 0.6646 - accuracy: 0.6266 - val_loss: 0.6566 - val_accuracy: 0.6343 - lr: 1.0000e-05\n",
            "Epoch 8/30\n",
            "133/133 [==============================] - 0s 4ms/step - loss: 0.6689 - accuracy: 0.6216 - val_loss: 0.6566 - val_accuracy: 0.6343 - lr: 1.0000e-06\n",
            "Epoch 9/30\n",
            "129/133 [============================>.] - ETA: 0s - loss: 0.6660 - accuracy: 0.6248\n",
            "Epoch 9: ReduceLROnPlateau reducing learning rate to 1.0000001111620805e-07.\n",
            "133/133 [==============================] - 1s 4ms/step - loss: 0.6667 - accuracy: 0.6232 - val_loss: 0.6566 - val_accuracy: 0.6343 - lr: 1.0000e-06\n"
          ]
        }
      ],
      "source": [
        "history1=model_Conv1D.fit(x_train, y_train, batch_size=batch_size, epochs=epochs, validation_split=0.2, verbose=1, callbacks=[callback, reduce_lr])"
      ]
    },
    {
      "cell_type": "code",
      "execution_count": null,
      "metadata": {
        "colab": {
          "base_uri": "https://localhost:8080/"
        },
        "id": "lmEFfXOLBv_V",
        "outputId": "f4b02670-683c-4663-b6a4-d23e37f93ec3"
      },
      "outputs": [
        {
          "name": "stdout",
          "output_type": "stream",
          "text": [
            "dict_keys(['loss', 'accuracy', 'val_loss', 'val_accuracy', 'lr'])\n"
          ]
        }
      ],
      "source": [
        "history_dict = history1.history\n",
        "print(history_dict.keys())"
      ]
    },
    {
      "cell_type": "code",
      "execution_count": null,
      "metadata": {
        "colab": {
          "base_uri": "https://localhost:8080/"
        },
        "id": "5rr3pA23Bx1B",
        "outputId": "2458bf50-74f0-4b95-e9a2-594c738b601a"
      },
      "outputs": [
        {
          "name": "stdout",
          "output_type": "stream",
          "text": [
            "[0.6342692375183105, 0.6342692375183105, 0.6342692375183105, 0.6342692375183105, 0.6342692375183105, 0.6342692375183105, 0.6342692375183105, 0.6342692375183105, 0.6342692375183105]\n",
            "\n",
            "[0.5908190608024597, 0.6126012802124023, 0.6163816452026367, 0.6252025365829468, 0.6241224408149719, 0.6226822733879089, 0.626642644405365, 0.6216021776199341, 0.6232223510742188]\n"
          ]
        }
      ],
      "source": [
        "val_acc = history1.history['val_accuracy']\n",
        "acc=history1.history['accuracy']\n",
        "print(val_acc)\n",
        "print()\n",
        "print(acc)"
      ]
    },
    {
      "cell_type": "code",
      "execution_count": null,
      "metadata": {
        "colab": {
          "base_uri": "https://localhost:8080/"
        },
        "id": "P_un1ze_Bzrp",
        "outputId": "13af37ca-b49d-423d-879e-1d6756eabcef"
      },
      "outputs": [
        {
          "name": "stdout",
          "output_type": "stream",
          "text": [
            "32/32 [==============================] - 0s 2ms/step\n"
          ]
        },
        {
          "data": {
            "text/plain": [
              "array([[0.37478134, 0.6252186 ],\n",
              "       [0.37448308, 0.6255169 ],\n",
              "       [0.37498334, 0.6250167 ],\n",
              "       ...,\n",
              "       [0.37457508, 0.6254249 ],\n",
              "       [0.37505075, 0.6249493 ],\n",
              "       [0.37478134, 0.62521875]], dtype=float32)"
            ]
          },
          "execution_count": 193,
          "metadata": {},
          "output_type": "execute_result"
        }
      ],
      "source": [
        "predictions_value = model_Conv1D.predict(x_test)\n",
        "predictions_value"
      ]
    },
    {
      "cell_type": "code",
      "execution_count": null,
      "metadata": {
        "colab": {
          "base_uri": "https://localhost:8080/",
          "height": 295
        },
        "id": "3VrshjqkRy1A",
        "outputId": "2318ed9f-7b40-4377-c19b-88a19766d2e4"
      },
      "outputs": [
        {
          "data": {
            "image/png": "[encoded data removed]",
            "text/plain": [
              "<Figure size 432x288 with 1 Axes>"
            ]
          },
          "metadata": {
            "needs_background": "light"
          },
          "output_type": "display_data"
        }
      ],
      "source": [
        "plt.plot(history1.history['accuracy'])\n",
        "plt.plot(history1.history['val_accuracy'])\n",
        "plt.title('Model Accuracy')\n",
        "plt.xlabel('Epochs')\n",
        "plt.ylabel('Accuracy')\n",
        "plt.legend(['Training', 'Test'])\n",
        "\n",
        "plt.show()"
      ]
    },
    {
      "cell_type": "code",
      "execution_count": null,
      "metadata": {
        "colab": {
          "base_uri": "https://localhost:8080/",
          "height": 295
        },
        "id": "COn0DnzVR4m7",
        "outputId": "76b6e8f7-1838-42a1-e3c5-83f073fb3c9a"
      },
      "outputs": [
        {
          "data": {
            "image/png": "[encoded data removed]",
            "text/plain": [
              "<Figure size 432x288 with 1 Axes>"
            ]
          },
          "metadata": {
            "needs_background": "light"
          },
          "output_type": "display_data"
        }
      ],
      "source": [
        "#Plot model loss\n",
        "plt.plot(history1.history['loss'])\n",
        "plt.plot(history1.history['val_loss'])\n",
        "plt.title('Model Loss')\n",
        "plt.xlabel('Epochs')\n",
        "plt.ylabel('Loss')\n",
        "plt.legend(['Training', 'Test'])\n",
        "\n",
        "plt.show()"
      ]
    },
    {
      "cell_type": "code",
      "execution_count": null,
      "metadata": {
        "colab": {
          "base_uri": "https://localhost:8080/"
        },
        "id": "4jmbnvKuR-hY",
        "outputId": "debc6d7e-edac-4c96-be3d-2ab8d9d81636"
      },
      "outputs": [
        {
          "name": "stdout",
          "output_type": "stream",
          "text": [
            "[[  0 365]\n",
            " [  0 635]]\n",
            "              precision    recall  f1-score   support\n",
            "\n",
            "           0       0.00      0.00      0.00       365\n",
            "           1       0.64      1.00      0.78       635\n",
            "\n",
            "    accuracy                           0.64      1000\n",
            "   macro avg       0.32      0.50      0.39      1000\n",
            "weighted avg       0.40      0.64      0.49      1000\n",
            "\n"
          ]
        },
        {
          "name": "stderr",
          "output_type": "stream",
          "text": [
            "/usr/local/lib/python3.8/dist-packages/sklearn/metrics/_classification.py:1318: UndefinedMetricWarning: Precision and F-score are ill-defined and being set to 0.0 in labels with no predicted samples. Use `zero_division` parameter to control this behavior.\n",
            "  _warn_prf(average, modifier, msg_start, len(result))\n",
            "/usr/local/lib/python3.8/dist-packages/sklearn/metrics/_classification.py:1318: UndefinedMetricWarning: Precision and F-score are ill-defined and being set to 0.0 in labels with no predicted samples. Use `zero_division` parameter to control this behavior.\n",
            "  _warn_prf(average, modifier, msg_start, len(result))\n",
            "/usr/local/lib/python3.8/dist-packages/sklearn/metrics/_classification.py:1318: UndefinedMetricWarning: Precision and F-score are ill-defined and being set to 0.0 in labels with no predicted samples. Use `zero_division` parameter to control this behavior.\n",
            "  _warn_prf(average, modifier, msg_start, len(result))\n"
          ]
        }
      ],
      "source": [
        "from sklearn.metrics import classification_report\n",
        "from sklearn.metrics import confusion_matrix\n",
        "\n",
        "report = classification_report(np.argmax(y_test, axis=1),np.argmax(predictions_value, axis=1))\n",
        "print(confusion_matrix(np.argmax(y_test, axis=1), np.argmax(predictions_value, axis=1)))\n",
        "\n",
        "print(report)"
      ]
    },
    {
      "cell_type": "markdown",
      "metadata": {
        "id": "SU5py0R1B3we"
      },
      "source": [
        "# **TASK-2**"
      ]
    },
    {
      "cell_type": "code",
      "execution_count": null,
      "metadata": {
        "id": "md4fscyBB6RT"
      },
      "outputs": [],
      "source": [
        "from keras.models import Model\n",
        "from keras.layers import Input, Dense, Dropout, Flatten\n",
        "from keras.layers.convolutional import Convolution1D, MaxPooling1D\n",
        "from keras.layers import LSTM"
      ]
    },
    {
      "cell_type": "code",
      "execution_count": null,
      "metadata": {
        "colab": {
          "base_uri": "https://localhost:8080/"
        },
        "id": "-tg970FWB9P6",
        "outputId": "01dc3d3b-e7d3-4e21-b038-0799e6aff48c"
      },
      "outputs": [
        {
          "data": {
            "text/plain": [
              "(6944, 20, 29)"
            ]
          },
          "execution_count": 81,
          "metadata": {},
          "output_type": "execute_result"
        }
      ],
      "source": [
        "x_train.shape"
      ]
    },
    {
      "cell_type": "code",
      "execution_count": null,
      "metadata": {
        "colab": {
          "base_uri": "https://localhost:8080/"
        },
        "id": "VGclKsTZB-zd",
        "outputId": "2c07cd05-8023-43eb-f4b0-20f2a5ce10f4"
      },
      "outputs": [
        {
          "data": {
            "text/plain": [
              "('inputs.shape: ', TensorShape([None, 20, 29]))"
            ]
          },
          "execution_count": 82,
          "metadata": {},
          "output_type": "execute_result"
        }
      ],
      "source": [
        "inputs = Input(shape=(20, 29), name='input', dtype='float32')\n",
        "\n",
        "'inputs.shape: ',inputs.shape"
      ]
    },
    {
      "cell_type": "code",
      "execution_count": null,
      "metadata": {
        "id": "z43oXAn1CAtJ"
      },
      "outputs": [],
      "source": [
        "#filter_size = 4\n",
        "dense_ot = 10\n",
        "#kernel_val = [2, 3, 3, 3, 4, 5]\n",
        "num_out = 2\n",
        "batch_size = 256\n",
        "epochs = 30\n",
        "units = 128"
      ]
    },
    {
      "cell_type": "code",
      "execution_count": null,
      "metadata": {
        "colab": {
          "base_uri": "https://localhost:8080/"
        },
        "id": "M0_KkoLzCCua",
        "outputId": "5fd04ee9-f26d-4a7c-f3c5-2ee52c7bf4ae"
      },
      "outputs": [
        {
          "name": "stdout",
          "output_type": "stream",
          "text": [
            "Model: \"sequential_4\"\n",
            "_________________________________________________________________\n",
            " Layer (type)                Output Shape              Param #   \n",
            "=================================================================\n",
            " bidirectional_4 (Bidirectio  (None, 20, 256)          161792    \n",
            " nal)                                                            \n",
            "                                                                 \n",
            " dropout_33 (Dropout)        (None, 20, 256)           0         \n",
            "                                                                 \n",
            " bidirectional_5 (Bidirectio  (None, 64)               73984     \n",
            " nal)                                                            \n",
            "                                                                 \n",
            " dropout_34 (Dropout)        (None, 64)                0         \n",
            "                                                                 \n",
            " dense_31 (Dense)            (None, 2)                 130       \n",
            "                                                                 \n",
            "=================================================================\n",
            "Total params: 235,906\n",
            "Trainable params: 235,906\n",
            "Non-trainable params: 0\n",
            "_________________________________________________________________\n"
          ]
        }
      ],
      "source": [
        "from tensorflow.keras.preprocessing import sequence\n",
        "from tensorflow.keras.models import Sequential\n",
        "from tensorflow.keras.layers import Dense, Embedding, Dropout, LSTM, Bidirectional\n",
        "from tensorflow.keras.regularizers import l2\n",
        "\n",
        "model = Sequential()\n",
        "model.add(Bidirectional(LSTM(128, activation='sigmoid', return_sequences=True), backward_layer=LSTM(128, return_sequences=True, go_backwards=True), input_shape=(20, 29)))\n",
        "model.add(Dropout(0.2))\n",
        "\n",
        "model.add(Bidirectional(LSTM(32)))\n",
        "model.add(Dropout(0.2))\n",
        "model.add(Dense(2, activation='softmax', activity_regularizer=l2(0.001)))\n",
        "\n",
        "model.summary()"
      ]
    },
    {
      "cell_type": "code",
      "execution_count": null,
      "metadata": {
        "id": "yFszBONsVTM2"
      },
      "outputs": [],
      "source": [
        "model.compile(loss='categorical_crossentropy', optimizer='adam', metrics=['accuracy'])"
      ]
    },
    {
      "cell_type": "code",
      "execution_count": null,
      "metadata": {
        "id": "a7GoSCk5cREZ"
      },
      "outputs": [],
      "source": [
        "from tensorflow.keras.callbacks import EarlyStopping, ModelCheckpoint, ReduceLROnPlateau\n",
        "callback = EarlyStopping(monitor='val_loss', patience=5)\n",
        "reduce_lr = ReduceLROnPlateau(monitor='val_accuracy', factor=0.1, patience=2, verbose=1, min_delta=1e-4, mode='max')"
      ]
    },
    {
      "cell_type": "code",
      "execution_count": null,
      "metadata": {
        "colab": {
          "base_uri": "https://localhost:8080/"
        },
        "id": "uGQiPBIaCE93",
        "outputId": "655c3b8c-0d9b-492f-b6a7-d0e95ec97e49"
      },
      "outputs": [
        {
          "name": "stdout",
          "output_type": "stream",
          "text": [
            "Epoch 1/30\n",
            "87/87 [==============================] - 27s 220ms/step - loss: 0.5775 - accuracy: 0.7012 - val_loss: 0.4995 - val_accuracy: 0.7811 - lr: 0.0010\n",
            "Epoch 2/30\n",
            "87/87 [==============================] - 14s 155ms/step - loss: 0.5097 - accuracy: 0.7622 - val_loss: 0.4927 - val_accuracy: 0.7667 - lr: 0.0010\n",
            "Epoch 3/30\n",
            "87/87 [==============================] - 13s 148ms/step - loss: 0.4876 - accuracy: 0.7743 - val_loss: 0.4640 - val_accuracy: 0.7826 - lr: 0.0010\n",
            "Epoch 4/30\n",
            "87/87 [==============================] - 12s 136ms/step - loss: 0.4660 - accuracy: 0.7813 - val_loss: 0.4461 - val_accuracy: 0.7919 - lr: 0.0010\n",
            "Epoch 5/30\n",
            "87/87 [==============================] - 17s 195ms/step - loss: 0.4511 - accuracy: 0.7897 - val_loss: 0.4309 - val_accuracy: 0.8020 - lr: 0.0010\n",
            "Epoch 6/30\n",
            "87/87 [==============================] - 14s 156ms/step - loss: 0.4371 - accuracy: 0.7969 - val_loss: 0.4232 - val_accuracy: 0.7955 - lr: 0.0010\n",
            "Epoch 7/30\n",
            "87/87 [==============================] - 11s 132ms/step - loss: 0.4382 - accuracy: 0.7906 - val_loss: 0.4167 - val_accuracy: 0.8085 - lr: 0.0010\n",
            "Epoch 8/30\n",
            "87/87 [==============================] - 12s 142ms/step - loss: 0.4309 - accuracy: 0.7941 - val_loss: 0.4151 - val_accuracy: 0.8114 - lr: 0.0010\n",
            "Epoch 9/30\n",
            "87/87 [==============================] - 11s 131ms/step - loss: 0.4281 - accuracy: 0.7953 - val_loss: 0.4090 - val_accuracy: 0.8099 - lr: 0.0010\n",
            "Epoch 10/30\n",
            "87/87 [==============================] - ETA: 0s - loss: 0.4215 - accuracy: 0.7960\n",
            "Epoch 10: ReduceLROnPlateau reducing learning rate to 0.00010000000474974513.\n",
            "87/87 [==============================] - 15s 172ms/step - loss: 0.4215 - accuracy: 0.7960 - val_loss: 0.4160 - val_accuracy: 0.8092 - lr: 0.0010\n",
            "Epoch 11/30\n",
            "87/87 [==============================] - 12s 139ms/step - loss: 0.4153 - accuracy: 0.8040 - val_loss: 0.4047 - val_accuracy: 0.8150 - lr: 1.0000e-04\n",
            "Epoch 12/30\n",
            "87/87 [==============================] - 12s 141ms/step - loss: 0.4130 - accuracy: 0.8018 - val_loss: 0.4051 - val_accuracy: 0.8121 - lr: 1.0000e-04\n",
            "Epoch 13/30\n",
            "87/87 [==============================] - ETA: 0s - loss: 0.4104 - accuracy: 0.8050\n",
            "Epoch 13: ReduceLROnPlateau reducing learning rate to 1.0000000474974514e-05.\n",
            "87/87 [==============================] - 15s 172ms/step - loss: 0.4104 - accuracy: 0.8050 - val_loss: 0.4059 - val_accuracy: 0.8143 - lr: 1.0000e-04\n",
            "Epoch 14/30\n",
            "87/87 [==============================] - 13s 153ms/step - loss: 0.4120 - accuracy: 0.8034 - val_loss: 0.4053 - val_accuracy: 0.8157 - lr: 1.0000e-05\n",
            "Epoch 15/30\n",
            "87/87 [==============================] - 13s 146ms/step - loss: 0.4093 - accuracy: 0.8083 - val_loss: 0.4050 - val_accuracy: 0.8143 - lr: 1.0000e-05\n",
            "Epoch 16/30\n",
            "87/87 [==============================] - ETA: 0s - loss: 0.4091 - accuracy: 0.8101\n",
            "Epoch 16: ReduceLROnPlateau reducing learning rate to 1.0000000656873453e-06.\n",
            "87/87 [==============================] - 12s 137ms/step - loss: 0.4091 - accuracy: 0.8101 - val_loss: 0.4048 - val_accuracy: 0.8143 - lr: 1.0000e-05\n"
          ]
        }
      ],
      "source": [
        "history2=model.fit(x_train, y_train, batch_size=64,\n",
        "           epochs=epochs, validation_split=0.2, verbose=True, callbacks=[callback, reduce_lr])"
      ]
    },
    {
      "cell_type": "code",
      "execution_count": null,
      "metadata": {
        "colab": {
          "base_uri": "https://localhost:8080/"
        },
        "id": "KAnwO1mBCHe4",
        "outputId": "87e4fbac-cbcf-475d-8f5d-1d0b07d6ed1e"
      },
      "outputs": [
        {
          "name": "stdout",
          "output_type": "stream",
          "text": [
            "dict_keys(['loss', 'accuracy', 'val_loss', 'val_accuracy', 'lr'])\n"
          ]
        }
      ],
      "source": [
        "history_dict = history2.history\n",
        "print(history_dict.keys())"
      ]
    },
    {
      "cell_type": "code",
      "execution_count": null,
      "metadata": {
        "colab": {
          "base_uri": "https://localhost:8080/"
        },
        "id": "BgQw11RqCJWq",
        "outputId": "9eb4f69f-b9c9-48e1-edbb-48df7d7cd5d4"
      },
      "outputs": [
        {
          "name": "stdout",
          "output_type": "stream",
          "text": [
            "[0.7811375260353088, 0.7667386531829834, 0.782577395439148, 0.7919366359710693, 0.8020158410072327, 0.7955363392829895, 0.8084953427314758, 0.811375081539154, 0.8099352121353149, 0.809215247631073, 0.8149747848510742, 0.812095046043396, 0.814254879951477, 0.8156947493553162, 0.814254879951477, 0.814254879951477]\n",
            "\n",
            "[0.7011701464653015, 0.7621962428092957, 0.7742574214935303, 0.781278133392334, 0.7897389531135559, 0.7969396710395813, 0.7906390428543091, 0.7940593957901001, 0.7953195571899414, 0.7960395812988281, 0.803960382938385, 0.8018001914024353, 0.8050404787063599, 0.80342036485672, 0.8082808256149292, 0.8100810050964355]\n"
          ]
        }
      ],
      "source": [
        "validation_acc = history2.history['val_accuracy']\n",
        "accuracy=history2.history['accuracy']\n",
        "print(validation_acc)\n",
        "print()\n",
        "print(accuracy)"
      ]
    },
    {
      "cell_type": "code",
      "execution_count": null,
      "metadata": {
        "colab": {
          "base_uri": "https://localhost:8080/"
        },
        "id": "GbK_S-hoCMT6",
        "outputId": "ef434ff8-78fb-45be-cc39-9c9b68bdc102"
      },
      "outputs": [
        {
          "name": "stdout",
          "output_type": "stream",
          "text": [
            "32/32 [==============================] - 3s 26ms/step\n"
          ]
        },
        {
          "data": {
            "text/plain": [
              "array([[0.06555974, 0.9344402 ],\n",
              "       [0.00814034, 0.99185956],\n",
              "       [0.8252566 , 0.17474337],\n",
              "       ...,\n",
              "       [0.01882438, 0.9811756 ],\n",
              "       [0.8815809 , 0.11841895],\n",
              "       [0.0126966 , 0.9873034 ]], dtype=float32)"
            ]
          },
          "execution_count": 162,
          "metadata": {},
          "output_type": "execute_result"
        }
      ],
      "source": [
        "predictions = model.predict(x_test)\n",
        "predictions"
      ]
    },
    {
      "cell_type": "code",
      "execution_count": null,
      "metadata": {
        "colab": {
          "base_uri": "https://localhost:8080/",
          "height": 295
        },
        "id": "jS6JAWjsSdi5",
        "outputId": "73ccc2b8-05d1-408a-cf55-0b4bc4ff3eef"
      },
      "outputs": [
        {
          "data": {
            "image/png": "[encoded data removed]",
            "text/plain": [
              "<Figure size 432x288 with 1 Axes>"
            ]
          },
          "metadata": {
            "needs_background": "light"
          },
          "output_type": "display_data"
        }
      ],
      "source": [
        "plt.plot(history2.history['accuracy'])\n",
        "plt.plot(history2.history['val_accuracy'])\n",
        "plt.title('Model Accuracy')\n",
        "plt.xlabel('Epochs')\n",
        "plt.ylabel('Accuracy')\n",
        "plt.legend(['Training', 'Test'])\n",
        "\n",
        "plt.show()"
      ]
    },
    {
      "cell_type": "code",
      "execution_count": null,
      "metadata": {
        "colab": {
          "base_uri": "https://localhost:8080/",
          "height": 295
        },
        "id": "OlLpc6FySgvF",
        "outputId": "3523fea4-ac17-47c7-9c72-fe267a3669d7"
      },
      "outputs": [
        {
          "data": {
            "image/png": "[encoded data removed]",
            "text/plain": [
              "<Figure size 432x288 with 1 Axes>"
            ]
          },
          "metadata": {
            "needs_background": "light"
          },
          "output_type": "display_data"
        }
      ],
      "source": [
        "#Plot model loss\n",
        "plt.plot(history2.history['loss'])\n",
        "plt.plot(history2.history['val_loss'])\n",
        "plt.title('Model Loss')\n",
        "plt.xlabel('Epochs')\n",
        "plt.ylabel('Loss')\n",
        "plt.legend(['Training', 'Test'])\n",
        "\n",
        "plt.show()"
      ]
    },
    {
      "cell_type": "code",
      "execution_count": null,
      "metadata": {
        "colab": {
          "base_uri": "https://localhost:8080/"
        },
        "id": "fUbj6JtNSkMX",
        "outputId": "80bb3ab3-56cc-4cc2-c95c-81f4b75099fb"
      },
      "outputs": [
        {
          "name": "stdout",
          "output_type": "stream",
          "text": [
            "[[256 109]\n",
            " [ 97 538]]\n",
            "              precision    recall  f1-score   support\n",
            "\n",
            "           0       0.73      0.70      0.71       365\n",
            "           1       0.83      0.85      0.84       635\n",
            "\n",
            "    accuracy                           0.79      1000\n",
            "   macro avg       0.78      0.77      0.78      1000\n",
            "weighted avg       0.79      0.79      0.79      1000\n",
            "\n"
          ]
        }
      ],
      "source": [
        "from sklearn.metrics import classification_report\n",
        "from sklearn.metrics import confusion_matrix\n",
        "\n",
        "report = classification_report(np.argmax(y_test, axis=1),np.argmax(predictions, axis=1))\n",
        "print(confusion_matrix(np.argmax(y_test, axis=1), np.argmax(predictions, axis=1)))\n",
        "\n",
        "print(report)"
      ]
    },
    {
      "cell_type": "markdown",
      "metadata": {
        "id": "5MxuMg-HCOrT"
      },
      "source": [
        "# **TASK-3**\n",
        "\n",
        "Mixing LSTM and CNN for prediction."
      ]
    },
    {
      "cell_type": "code",
      "execution_count": null,
      "metadata": {
        "id": "yk0VF8CWCU2v"
      },
      "outputs": [],
      "source": [
        "filter_size = 2\n",
        "dense_ot = 10\n",
        "kernel_sizes = [2, 5, 3, 3, 4, 3]\n",
        "num_out = 2\n",
        "batch_size = 80\n",
        "epochs = 10\n",
        "units = 128"
      ]
    },
    {
      "cell_type": "code",
      "execution_count": null,
      "metadata": {
        "id": "Foy5ddh5CYJR"
      },
      "outputs": [],
      "source": [
        "lstm_in = LSTM(units,activation='sigmoid',input_shape=(20, 29),return_sequences=True)(inputs)\n",
        "lstm1 = MaxPooling1D(pool_size=5)(lstm_in)\n",
        "\n",
        "conv1 = Conv1D(filters=filter_size, kernel_size=kernel_sizes[2],\n",
        "                     padding='same', activation='sigmoid')(lstm1)\n",
        "\n",
        "conv2 = Flatten()(conv1)\n",
        "dropout_layer=Dropout(0.3)(Dense(dense_ot, activation='sigmoid')(conv2))\n",
        "\n",
        "conv3 = Conv1D(filters=filter_size, kernel_size=kernel_sizes[2],\n",
        "                     padding='same', activation='relu')(lstm1)\n",
        "conv4 = Flatten()(conv3)\n",
        "dropout_layer=Dropout(0.3)(Dense(dense_ot, activation='sigmoid')(conv4))\n",
        "\n",
        "pred=Dense(num_out,activation='softmax',name='output')(dropout_layer)\n",
        "\n",
        "model_lstm_cnn=Model(inputs=inputs,outputs=pred)\n",
        "\n",
        "model_lstm_cnn.compile(loss='binary_crossentropy', optimizer='adam',\n",
        "              metrics=['accuracy'])"
      ]
    },
    {
      "cell_type": "code",
      "execution_count": null,
      "metadata": {
        "id": "VYy0z-RFiXdl"
      },
      "outputs": [],
      "source": [
        "from tensorflow.keras.callbacks import EarlyStopping, ModelCheckpoint, ReduceLROnPlateau\n",
        "callback = EarlyStopping(monitor='val_loss', patience=5)\n",
        "reduce_lr = ReduceLROnPlateau(monitor='val_accuracy', factor=0.1, patience=2, verbose=1, min_delta=1e-4, mode='max')"
      ]
    },
    {
      "cell_type": "code",
      "execution_count": null,
      "metadata": {
        "colab": {
          "base_uri": "https://localhost:8080/"
        },
        "id": "nQ9EL819CaMN",
        "outputId": "9d91954d-95b0-451e-aa73-70cc42f7544e"
      },
      "outputs": [
        {
          "name": "stdout",
          "output_type": "stream",
          "text": [
            "Epoch 1/30\n",
            "22/22 [==============================] - 9s 312ms/step - loss: 0.6829 - accuracy: 0.6214 - val_loss: 0.6569 - val_accuracy: 0.6343\n",
            "Epoch 2/30\n",
            "22/22 [==============================] - 7s 300ms/step - loss: 0.6718 - accuracy: 0.6236 - val_loss: 0.6572 - val_accuracy: 0.6343\n",
            "Epoch 3/30\n",
            "22/22 [==============================] - 6s 295ms/step - loss: 0.6700 - accuracy: 0.6256 - val_loss: 0.6569 - val_accuracy: 0.6343\n",
            "Epoch 4/30\n",
            "22/22 [==============================] - 7s 299ms/step - loss: 0.6681 - accuracy: 0.6243 - val_loss: 0.6571 - val_accuracy: 0.6343\n",
            "Epoch 5/30\n",
            "22/22 [==============================] - 7s 297ms/step - loss: 0.6684 - accuracy: 0.6252 - val_loss: 0.6571 - val_accuracy: 0.6343\n",
            "Epoch 6/30\n",
            "22/22 [==============================] - 7s 300ms/step - loss: 0.6653 - accuracy: 0.6259 - val_loss: 0.6566 - val_accuracy: 0.6343\n",
            "Epoch 7/30\n",
            "22/22 [==============================] - 7s 296ms/step - loss: 0.6651 - accuracy: 0.6284 - val_loss: 0.6565 - val_accuracy: 0.6343\n",
            "Epoch 8/30\n",
            "22/22 [==============================] - 6s 296ms/step - loss: 0.6649 - accuracy: 0.6250 - val_loss: 0.6567 - val_accuracy: 0.6343\n",
            "Epoch 9/30\n",
            "22/22 [==============================] - 7s 297ms/step - loss: 0.6656 - accuracy: 0.6274 - val_loss: 0.6565 - val_accuracy: 0.6343\n",
            "Epoch 10/30\n",
            "22/22 [==============================] - 7s 299ms/step - loss: 0.6642 - accuracy: 0.6272 - val_loss: 0.6561 - val_accuracy: 0.6343\n",
            "Epoch 11/30\n",
            "22/22 [==============================] - 9s 404ms/step - loss: 0.6661 - accuracy: 0.6268 - val_loss: 0.6564 - val_accuracy: 0.6343\n",
            "Epoch 12/30\n",
            "22/22 [==============================] - 7s 300ms/step - loss: 0.6634 - accuracy: 0.6274 - val_loss: 0.6563 - val_accuracy: 0.6343\n",
            "Epoch 13/30\n",
            "22/22 [==============================] - 6s 294ms/step - loss: 0.6621 - accuracy: 0.6274 - val_loss: 0.6559 - val_accuracy: 0.6343\n",
            "Epoch 14/30\n",
            "22/22 [==============================] - 6s 296ms/step - loss: 0.6630 - accuracy: 0.6274 - val_loss: 0.6559 - val_accuracy: 0.6343\n",
            "Epoch 15/30\n",
            "22/22 [==============================] - 7s 296ms/step - loss: 0.6619 - accuracy: 0.6274 - val_loss: 0.6555 - val_accuracy: 0.6343\n",
            "Epoch 16/30\n",
            "22/22 [==============================] - 7s 298ms/step - loss: 0.6649 - accuracy: 0.6274 - val_loss: 0.6551 - val_accuracy: 0.6343\n",
            "Epoch 17/30\n",
            "22/22 [==============================] - 7s 304ms/step - loss: 0.6626 - accuracy: 0.6274 - val_loss: 0.6545 - val_accuracy: 0.6343\n",
            "Epoch 18/30\n",
            "22/22 [==============================] - 7s 302ms/step - loss: 0.6627 - accuracy: 0.6275 - val_loss: 0.6537 - val_accuracy: 0.6343\n",
            "Epoch 19/30\n",
            "22/22 [==============================] - 7s 303ms/step - loss: 0.6609 - accuracy: 0.6272 - val_loss: 0.6533 - val_accuracy: 0.6343\n",
            "Epoch 20/30\n",
            "22/22 [==============================] - 9s 425ms/step - loss: 0.6567 - accuracy: 0.6268 - val_loss: 0.6502 - val_accuracy: 0.6343\n",
            "Epoch 21/30\n",
            "22/22 [==============================] - 7s 300ms/step - loss: 0.6549 - accuracy: 0.6275 - val_loss: 0.6488 - val_accuracy: 0.6343\n",
            "Epoch 22/30\n",
            "22/22 [==============================] - 7s 297ms/step - loss: 0.6540 - accuracy: 0.6281 - val_loss: 0.6411 - val_accuracy: 0.6343\n",
            "Epoch 23/30\n",
            "22/22 [==============================] - 7s 301ms/step - loss: 0.6459 - accuracy: 0.6338 - val_loss: 0.6335 - val_accuracy: 0.6343\n",
            "Epoch 24/30\n",
            "22/22 [==============================] - 7s 341ms/step - loss: 0.6413 - accuracy: 0.6364 - val_loss: 0.6252 - val_accuracy: 0.6343\n",
            "Epoch 25/30\n",
            "22/22 [==============================] - 9s 400ms/step - loss: 0.6316 - accuracy: 0.6526 - val_loss: 0.6126 - val_accuracy: 0.6343\n",
            "Epoch 26/30\n",
            "22/22 [==============================] - 7s 312ms/step - loss: 0.6226 - accuracy: 0.6535 - val_loss: 0.6021 - val_accuracy: 0.7055\n",
            "Epoch 27/30\n",
            "22/22 [==============================] - 7s 309ms/step - loss: 0.6099 - accuracy: 0.6691 - val_loss: 0.5852 - val_accuracy: 0.7271\n",
            "Epoch 28/30\n",
            "22/22 [==============================] - 8s 362ms/step - loss: 0.5945 - accuracy: 0.6846 - val_loss: 0.5700 - val_accuracy: 0.7235\n",
            "Epoch 29/30\n",
            "22/22 [==============================] - 7s 301ms/step - loss: 0.5764 - accuracy: 0.7050 - val_loss: 0.5457 - val_accuracy: 0.7631\n",
            "Epoch 30/30\n",
            "22/22 [==============================] - 7s 297ms/step - loss: 0.5553 - accuracy: 0.7303 - val_loss: 0.5277 - val_accuracy: 0.7646\n"
          ]
        }
      ],
      "source": [
        "history3=model_lstm_cnn.fit(x_train, y_train, batch_size=256,\n",
        "           epochs=epochs, validation_split=0.2, verbose=True)"
      ]
    },
    {
      "cell_type": "code",
      "execution_count": null,
      "metadata": {
        "colab": {
          "base_uri": "https://localhost:8080/"
        },
        "id": "Sy4_ROfiCcIb",
        "outputId": "864b4668-9173-4466-a8e3-15f31ded1861"
      },
      "outputs": [
        {
          "name": "stdout",
          "output_type": "stream",
          "text": [
            "[0.6342692375183105, 0.6342692375183105, 0.6342692375183105, 0.6342692375183105, 0.6342692375183105, 0.6342692375183105, 0.6342692375183105, 0.6342692375183105, 0.6342692375183105, 0.6342692375183105, 0.6342692375183105, 0.6342692375183105, 0.6342692375183105, 0.6342692375183105, 0.6342692375183105, 0.6342692375183105, 0.6342692375183105, 0.6342692375183105, 0.6342692375183105, 0.6342692375183105, 0.6342692375183105, 0.6342692375183105, 0.6342692375183105, 0.6342692375183105, 0.6342692375183105, 0.705543577671051, 0.7271418571472168, 0.7235420942306519, 0.7631389498710632, 0.7645788192749023]\n",
            "\n",
            "[0.6214221715927124, 0.6235823631286621, 0.6255625486373901, 0.6243024468421936, 0.6252025365829468, 0.6259226202964783, 0.6284428238868713, 0.6250225305557251, 0.6273627281188965, 0.6271827220916748, 0.6268227100372314, 0.6273627281188965, 0.6273627281188965, 0.6273627281188965, 0.6273627281188965, 0.6273627281188965, 0.6273627281188965, 0.6275427341461182, 0.6271827220916748, 0.6268227100372314, 0.6275427341461182, 0.628082811832428, 0.6338433623313904, 0.6363636255264282, 0.6525652408599854, 0.6534653306007385, 0.6691269278526306, 0.6846084594726562, 0.7049505114555359, 0.7303330302238464]\n"
          ]
        }
      ],
      "source": [
        "validation_acc = history3.history['val_accuracy']\n",
        "accuracy=history3.history['accuracy']\n",
        "print(validation_acc)\n",
        "print()\n",
        "print(accuracy)"
      ]
    },
    {
      "cell_type": "code",
      "execution_count": null,
      "metadata": {
        "colab": {
          "base_uri": "https://localhost:8080/"
        },
        "id": "S4thPCjzCdvj",
        "outputId": "01507b53-17e5-4705-e5fa-80d633072dab"
      },
      "outputs": [
        {
          "name": "stdout",
          "output_type": "stream",
          "text": [
            "32/32 [==============================] - 1s 24ms/step\n"
          ]
        },
        {
          "data": {
            "text/plain": [
              "array([[0.41841868, 0.58158123],\n",
              "       [0.41786903, 0.582131  ],\n",
              "       [0.41900235, 0.5809975 ],\n",
              "       ...,\n",
              "       [0.41862538, 0.5813746 ],\n",
              "       [0.41888154, 0.58111846],\n",
              "       [0.41883948, 0.5811604 ]], dtype=float32)"
            ]
          },
          "execution_count": 241,
          "metadata": {},
          "output_type": "execute_result"
        }
      ],
      "source": [
        "predictions = model_lstm_cnn.predict(x_test)\n",
        "predictions"
      ]
    },
    {
      "cell_type": "code",
      "execution_count": null,
      "metadata": {
        "colab": {
          "base_uri": "https://localhost:8080/",
          "height": 295
        },
        "id": "KcTDLL8-Snir",
        "outputId": "ea2a4b37-0ffa-416a-b212-bd9753d7adf1"
      },
      "outputs": [
        {
          "data": {
            "image/png": "[encoded data removed]",
            "text/plain": [
              "<Figure size 432x288 with 1 Axes>"
            ]
          },
          "metadata": {
            "needs_background": "light"
          },
          "output_type": "display_data"
        }
      ],
      "source": [
        "plt.plot(history3.history['accuracy'])\n",
        "plt.plot(history3.history['val_accuracy'])\n",
        "plt.title('Model Accuracy')\n",
        "plt.xlabel('Epochs')\n",
        "plt.ylabel('Accuracy')\n",
        "plt.legend(['Training', 'Test'])\n",
        "\n",
        "plt.show()"
      ]
    },
    {
      "cell_type": "code",
      "execution_count": null,
      "metadata": {
        "colab": {
          "base_uri": "https://localhost:8080/",
          "height": 295
        },
        "id": "_bLh1eIGSpP2",
        "outputId": "1e7cc5da-f0a0-4995-fce4-c509bb5a43d3"
      },
      "outputs": [
        {
          "data": {
            "image/png": "[encoded data removed]",
            "text/plain": [
              "<Figure size 432x288 with 1 Axes>"
            ]
          },
          "metadata": {
            "needs_background": "light"
          },
          "output_type": "display_data"
        }
      ],
      "source": [
        "# Plot model loss\n",
        "plt.plot(history3.history['loss'])\n",
        "plt.plot(history3.history['val_loss'])\n",
        "plt.title('Model Loss')\n",
        "plt.xlabel('Epochs')\n",
        "plt.ylabel('Loss')\n",
        "plt.legend(['Training', 'Test'])\n",
        "\n",
        "plt.show()"
      ]
    },
    {
      "cell_type": "code",
      "execution_count": null,
      "metadata": {
        "colab": {
          "base_uri": "https://localhost:8080/"
        },
        "id": "3Zp2h1M4SsWI",
        "outputId": "d1007ac5-1b3f-4714-c538-bbdd7d4624be"
      },
      "outputs": [
        {
          "name": "stdout",
          "output_type": "stream",
          "text": [
            "[[201 164]\n",
            " [120 515]]\n",
            "              precision    recall  f1-score   support\n",
            "\n",
            "           0       0.63      0.55      0.59       365\n",
            "           1       0.76      0.81      0.78       635\n",
            "\n",
            "    accuracy                           0.72      1000\n",
            "   macro avg       0.69      0.68      0.68      1000\n",
            "weighted avg       0.71      0.72      0.71      1000\n",
            "\n"
          ]
        }
      ],
      "source": [
        "from sklearn.metrics import classification_report\n",
        "from sklearn.metrics import confusion_matrix\n",
        "\n",
        "report = classification_report(np.argmax(y_test, axis=1),np.argmax(predictions, axis=1))\n",
        "print(confusion_matrix(np.argmax(y_test, axis=1), np.argmax(predictions, axis=1)))\n",
        "\n",
        "print(report)"
      ]
    },
    {
      "cell_type": "markdown",
      "metadata": {
        "id": "vMBBO5nGChnX"
      },
      "source": [
        "# **TASK-3 Evaluation**"
      ]
    },
    {
      "cell_type": "code",
      "execution_count": null,
      "metadata": {
        "colab": {
          "base_uri": "https://localhost:8080/"
        },
        "id": "5ozXKF9BCi34",
        "outputId": "41bac72d-1651-4f6e-b4c3-6eb7bc0efd28"
      },
      "outputs": [
        {
          "name": "stdout",
          "output_type": "stream",
          "text": [
            "16/16 [==============================] - 0s 6ms/step - loss: 0.6571 - accuracy: 0.6350\n",
            "score 0.6571360230445862\n",
            "accuracy 0.6349999904632568\n"
          ]
        }
      ],
      "source": [
        "score, acc = model_lstm_cnn.evaluate(x_test, y_test, batch_size=64)\n",
        "print('score', score)\n",
        "print('accuracy', acc)"
      ]
    },
    {
      "cell_type": "code",
      "execution_count": null,
      "metadata": {
        "colab": {
          "base_uri": "https://localhost:8080/",
          "height": 545
        },
        "id": "w5RTunNDCkpl",
        "outputId": "75a5f771-dd62-4610-d8cb-c454fe78fb04"
      },
      "outputs": [
        {
          "data": {
            "image/png": "[encoded data removed]",
            "text/plain": [
              "<Figure size 432x288 with 1 Axes>"
            ]
          },
          "metadata": {
            "needs_background": "light"
          },
          "output_type": "display_data"
        },
        {
          "data": {
            "image/png": "[encoded data removed]",
            "text/plain": [
              "<Figure size 432x288 with 1 Axes>"
            ]
          },
          "metadata": {
            "needs_background": "light"
          },
          "output_type": "display_data"
        }
      ],
      "source": [
        "import matplotlib.pyplot as plt\n",
        "%matplotlib inline\n",
        "\n",
        "\n",
        "val_acc = history3.history['val_accuracy']\n",
        "acc=history3.history['accuracy']\n",
        "\n",
        "loss = history3.history['loss']\n",
        "val_loss = history3.history['val_loss']\n",
        "epochs = range(len(acc))\n",
        "\n",
        "plt.plot(epochs, acc, 'bo', label='Training accuracy')\n",
        "plt.plot(epochs, val_acc, 'b', label='Validation accuracy')\n",
        "plt.title('Training and validation accuracy')\n",
        "plt.legend()\n",
        "plt.figure()\n",
        "\n",
        "plt.plot(epochs, loss, 'bo', label='Training loss')\n",
        "plt.plot(epochs, val_loss, 'b', label='Validation loss')\n",
        "plt.title('Training and validation loss')\n",
        "plt.legend()\n",
        "plt.show()"
      ]
    },
    {
      "cell_type": "code",
      "execution_count": null,
      "metadata": {
        "id": "oiLVdc0gCmf-"
      },
      "outputs": [],
      "source": []
    }
  ],
  "metadata": {
    "colab": {
      "provenance": []
    },
    "kernelspec": {
      "display_name": "Python 3 (ipykernel)",
      "language": "python",
      "name": "python3"
    },
    "language_info": {
      "codemirror_mode": {
        "name": "ipython",
        "version": 3
      },
      "file_extension": ".py",
      "mimetype": "text/x-python",
      "name": "python",
      "nbconvert_exporter": "python",
      "pygments_lexer": "ipython3",
      "version": "3.9.2"
    }
  },
  "nbformat": 4,
  "nbformat_minor": 0
}